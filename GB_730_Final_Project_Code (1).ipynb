{
  "nbformat": 4,
  "nbformat_minor": 0,
  "metadata": {
    "colab": {
      "provenance": []
    },
    "kernelspec": {
      "name": "python3",
      "display_name": "Python 3"
    },
    "language_info": {
      "name": "python"
    }
  },
  "cells": [
    {
      "cell_type": "code",
      "execution_count": null,
      "metadata": {
        "id": "dM6eVHDd4vms"
      },
      "outputs": [],
      "source": [
        "#Copy-and-paste the code below to use as \"set-up\" when your optimization model uses Pyomo and Coin-OR solvers.\n",
        "#for reference, see https://jckantor.github.io/ND-Pyomo-Cookbook/notebooks/01.02-Running-Pyomo-on-Google-Colab.html#installing-pyomo-and-solvers\n",
        "\n",
        "%%capture\n",
        "import sys\n",
        "import os\n",
        "\n",
        "if 'google.colab' in sys.modules:\n",
        "    !pip install idaes-pse --pre\n",
        "    !idaes get-extensions --to ./bin\n",
        "    os.environ['PATH'] += ':bin'\n",
        "\n",
        "from pyomo.environ import *"
      ]
    },
    {
      "cell_type": "code",
      "source": [
        "import pandas as pd"
      ],
      "metadata": {
        "id": "VqfO0fTf8MOU"
      },
      "execution_count": null,
      "outputs": []
    },
    {
      "cell_type": "code",
      "source": [
        "# Create the model\n",
        "model = ConcreteModel()\n",
        "\n",
        "# Inputs\n",
        "num_dogs = range(1, 16) # indexed by [d]\n",
        "num_volunteers = range(1, 6) #indexed by [v]\n",
        "\n",
        "dog_time_required = {1: 33, 2: 38, 3: 33, 4: 29, 5: 53, 6: 23, 7: 43, 8: 27, 9: 55, 10: 56, 11: 24, 12: 35, 13: 55, 14: 41, 15: 59}\n",
        "volunteer_available_time = {1: 300, 2: 300, 3: 300, 4: 300, 5: 300}\n",
        "\n",
        "# Decision Variables\n",
        "model.x = Var(num_dogs, num_volunteers, within=Binary)\n",
        "\n",
        "\n",
        "# Objective\n",
        "model.obj = Objective(expr=sum(dog_time_required[d] * model.x[d, v] for d in num_dogs for v in num_volunteers), sense=minimize)\n",
        "\n",
        "# Constraints\n",
        "# Each dog is walked by one volunteer\n",
        "model.walk_once = ConstraintList()\n",
        "for d in num_dogs:\n",
        "    model.walk_once.add(sum(model.x[d, v] for v in num_volunteers) == 1)\n",
        "\n",
        "# Each required exercise time for a dog is less than the volunteer's available time\n",
        "model.volunteer_time = ConstraintList()\n",
        "for v in num_volunteers:\n",
        "    model.volunteer_time.add(sum(dog_time_required[d] * model.x[d, v] for d in num_dogs) <= volunteer_available_time[v])\n",
        "\n",
        "# Each volunteer must walk at least one dog\n",
        "model.walk_at_least_one_dog = ConstraintList()\n",
        "for v in num_volunteers:\n",
        "    model.walk_at_least_one_dog.add(sum(model.x[d, v] for d in num_dogs) >= 1)\n",
        "\n",
        "# Each volunteer can only walk at most three dogs\n",
        "model.walk_at_most_three_dogs = ConstraintList()\n",
        "for v in num_volunteers:\n",
        "    model.walk_at_most_three_dogs.add(sum(model.x[d, v] for d in num_dogs) <= 3)"
      ],
      "metadata": {
        "id": "ZGOk83p_g3Ee"
      },
      "execution_count": null,
      "outputs": []
    },
    {
      "cell_type": "code",
      "source": [
        "# Solve the model\n",
        "opt = SolverFactory('cbc')\n",
        "opt.options['seconds'] = 5\n",
        "opt.options['ratioGap'] = 0\n",
        "results = opt.solve(model, tee=False)"
      ],
      "metadata": {
        "id": "RKUcwtCjuazL"
      },
      "execution_count": null,
      "outputs": []
    },
    {
      "cell_type": "code",
      "source": [
        "# Display the results\n",
        "print(\"Objective Value: \", model.obj())\n",
        "print(\"\\nVolunteer Assignments:\")\n",
        "for d in num_dogs:\n",
        "    for v in num_volunteers:\n",
        "        if value(model.x[d, v]) == 1:\n",
        "            print(f\"Dog {d} is assigned to Volunteer {v}\")"
      ],
      "metadata": {
        "colab": {
          "base_uri": "https://localhost:8080/"
        },
        "id": "33__4s88j2QB",
        "outputId": "e94719a0-2f1a-4159-eafa-e315daa9286f"
      },
      "execution_count": null,
      "outputs": [
        {
          "output_type": "stream",
          "name": "stdout",
          "text": [
            "Objective Value:  604.0\n",
            "\n",
            "Volunteer Assignments:\n",
            "Dog 1 is assigned to Volunteer 2\n",
            "Dog 2 is assigned to Volunteer 4\n",
            "Dog 3 is assigned to Volunteer 5\n",
            "Dog 4 is assigned to Volunteer 2\n",
            "Dog 5 is assigned to Volunteer 3\n",
            "Dog 6 is assigned to Volunteer 1\n",
            "Dog 7 is assigned to Volunteer 3\n",
            "Dog 8 is assigned to Volunteer 4\n",
            "Dog 9 is assigned to Volunteer 5\n",
            "Dog 10 is assigned to Volunteer 4\n",
            "Dog 11 is assigned to Volunteer 5\n",
            "Dog 12 is assigned to Volunteer 1\n",
            "Dog 13 is assigned to Volunteer 3\n",
            "Dog 14 is assigned to Volunteer 2\n",
            "Dog 15 is assigned to Volunteer 1\n"
          ]
        }
      ]
    }
  ]
}