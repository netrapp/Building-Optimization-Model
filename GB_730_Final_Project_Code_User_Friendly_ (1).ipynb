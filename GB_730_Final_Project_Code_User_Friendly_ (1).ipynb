{
  "nbformat": 4,
  "nbformat_minor": 0,
  "metadata": {
    "colab": {
      "provenance": []
    },
    "kernelspec": {
      "name": "python3",
      "display_name": "Python 3"
    },
    "language_info": {
      "name": "python"
    }
  },
  "cells": [
    {
      "cell_type": "markdown",
      "source": [
        "Run the two cells below."
      ],
      "metadata": {
        "id": "p-kuzv2a2Axo"
      }
    },
    {
      "cell_type": "code",
      "execution_count": null,
      "metadata": {
        "id": "dM6eVHDd4vms",
        "cellView": "form"
      },
      "outputs": [],
      "source": [
        "# @title Setting Up\n",
        "#Copy-and-paste the code below to use as \"set-up\" when your optimization model uses Pyomo and Coin-OR solvers.\n",
        "#for reference, see https://jckantor.github.io/ND-Pyomo-Cookbook/notebooks/01.02-Running-Pyomo-on-Google-Colab.html#installing-pyomo-and-solvers\n",
        "\n",
        "%%capture\n",
        "import sys\n",
        "import os\n",
        "\n",
        "if 'google.colab' in sys.modules:\n",
        "    !pip install idaes-pse --pre\n",
        "    !idaes get-extensions --to ./bin\n",
        "    os.environ['PATH'] += ':bin'\n",
        "\n",
        "from pyomo.environ import *\n",
        "\n",
        "import pandas as pd"
      ]
    },
    {
      "cell_type": "code",
      "source": [
        "# @title Volunteer Dog Walking Solution\n",
        "def optimize_dog_walking(time_required, available_time):\n",
        "# Create the model\n",
        "    model = ConcreteModel()\n",
        "\n",
        "# Sets\n",
        "    dogs = range(1, len(time_required) + 1)\n",
        "    volunteers = range(1, len(available_time) + 1)\n",
        "\n",
        "# Binary decision variables\n",
        "    model.x = Var(dogs, volunteers, within=Binary)\n",
        "\n",
        "# Objective function\n",
        "    model.obj = Objective(expr=sum(time_required[d] * model.x[d, v] for d in dogs for v in volunteers), sense=minimize)\n",
        "\n",
        "# Constraints\n",
        " # Each dog is walked by one volunteer\n",
        "    model.walk_once = ConstraintList()\n",
        "    for d in dogs:\n",
        "        model.walk_once.add(sum(model.x[d, v] for v in volunteers) == 1)\n",
        "\n",
        " # Each required exercise time for a dog is less than the volunteer's available time\n",
        "    model.volunteer_time = ConstraintList()\n",
        "    for v in volunteers:\n",
        "        model.volunteer_time.add(sum(time_required[d] * model.x[d, v] for d in dogs) <= available_time[v])\n",
        "\n",
        " # Each volunteer must walk at least one dog\n",
        "    model.walk_at_least_one_dog = ConstraintList()\n",
        "    for v in volunteers:\n",
        "        model.walk_at_least_one_dog.add(sum(model.x[d, v] for d in dogs) >= 1)\n",
        "\n",
        " # Each volunteer can only walk at most three dogs\n",
        "    model.walk_at_most_three_dogs = ConstraintList()\n",
        "    for v in volunteers:\n",
        "        model.walk_at_most_three_dogs.add(sum(model.x[d, v] for d in dogs) <= 3)\n",
        "\n",
        "# Solve the model\n",
        "    solver = SolverFactory('cbc')\n",
        "    results = solver.solve(model)\n",
        "\n",
        "# Display the results\n",
        "    print(\"Objective Value: \", model.obj())\n",
        "    print(\"\\nVolunteer Assignments:\")\n",
        "    for d in dogs:\n",
        "        for v in volunteers:\n",
        "            if value(model.x[d, v]) == 1:\n",
        "                print(f\"Dog {d} is assigned to Volunteer {v}\")\n"
      ],
      "metadata": {
        "id": "HHjmLTNqxvLi",
        "cellView": "form"
      },
      "execution_count": null,
      "outputs": []
    },
    {
      "cell_type": "markdown",
      "source": [
        "Run this third cell of code. Now, input the number of dogs you currently have at your shelter. Then, input the number of volunteers you currently have available. Then, enter the number of minutes each dog in the shelter requires for exercise. Last, enter how many minutes your volunteer has available to walk dogs. The solution will then output!"
      ],
      "metadata": {
        "id": "cvuTlg251ebr"
      }
    },
    {
      "cell_type": "code",
      "source": [
        "15# Get user inputs\n",
        "num_dogs = int(input(\"Enter the number of dogs: \"))\n",
        "num_volunteers = int(input(\"Enter the number of volunteers: \"))\n",
        "\n",
        "time_required = {}\n",
        "for d in range(1, num_dogs + 1):\n",
        "    time_required[d] = int(input(f\"Enter time required for Dog {d} (in minutes): \"))\n",
        "\n",
        "available_time = {}\n",
        "for v in range(1, num_volunteers + 1):\n",
        "    available_time[v] = int(input(f\"Enter available time for Volunteer {v} (in minutes): \"))\n",
        "\n",
        "# Call the optimization function\n",
        "optimize_dog_walking(time_required, available_time)\n",
        "\n"
      ],
      "metadata": {
        "colab": {
          "base_uri": "https://localhost:8080/"
        },
        "id": "HkjpnqZOyIhT",
        "outputId": "fe8c54bd-fd36-43e3-ea10-c0350b9f3b72"
      },
      "execution_count": 6,
      "outputs": [
        {
          "output_type": "stream",
          "name": "stdout",
          "text": [
            "Enter the number of dogs: 10\n",
            "Enter the number of volunteers: 5\n",
            "Enter time required for Dog 1 (in minutes): 30\n",
            "Enter time required for Dog 2 (in minutes): 28\n",
            "Enter time required for Dog 3 (in minutes): 22\n",
            "Enter time required for Dog 4 (in minutes): 45\n",
            "Enter time required for Dog 5 (in minutes): 27\n",
            "Enter time required for Dog 6 (in minutes): 18\n",
            "Enter time required for Dog 7 (in minutes): 24\n",
            "Enter time required for Dog 8 (in minutes): 27\n",
            "Enter time required for Dog 9 (in minutes): 31\n",
            "Enter time required for Dog 10 (in minutes): 41\n",
            "Enter available time for Volunteer 1 (in minutes): 120\n",
            "Enter available time for Volunteer 2 (in minutes): 120\n",
            "Enter available time for Volunteer 3 (in minutes): 60\n",
            "Enter available time for Volunteer 4 (in minutes): 45\n",
            "Enter available time for Volunteer 5 (in minutes): 120\n",
            "Objective Value:  293.0\n",
            "\n",
            "Volunteer Assignments:\n",
            "Dog 1 is assigned to Volunteer 1\n",
            "Dog 2 is assigned to Volunteer 4\n",
            "Dog 3 is assigned to Volunteer 5\n",
            "Dog 4 is assigned to Volunteer 5\n",
            "Dog 5 is assigned to Volunteer 2\n",
            "Dog 6 is assigned to Volunteer 1\n",
            "Dog 7 is assigned to Volunteer 5\n",
            "Dog 8 is assigned to Volunteer 3\n",
            "Dog 9 is assigned to Volunteer 1\n",
            "Dog 10 is assigned to Volunteer 2\n"
          ]
        }
      ]
    }
  ]
}